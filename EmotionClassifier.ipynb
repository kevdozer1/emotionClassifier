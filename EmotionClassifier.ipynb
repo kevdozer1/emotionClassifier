{
  "nbformat": 4,
  "nbformat_minor": 0,
  "metadata": {
    "colab": {
      "provenance": [],
      "authorship_tag": "ABX9TyPfwZIf3PxZu6rB3NFlD8fh",
      "include_colab_link": true
    },
    "kernelspec": {
      "name": "python3",
      "display_name": "Python 3"
    },
    "language_info": {
      "name": "python"
    }
  },
  "cells": [
    {
      "cell_type": "markdown",
      "metadata": {
        "id": "view-in-github",
        "colab_type": "text"
      },
      "source": [
        "<a href=\"https://colab.research.google.com/github/kevdozer1/emotionClassifier/blob/main/EmotionClassifier.ipynb\" target=\"_parent\"><img src=\"https://colab.research.google.com/assets/colab-badge.svg\" alt=\"Open In Colab\"/></a>"
      ]
    },
    {
      "cell_type": "markdown",
      "source": [
        "This project revolves around multimodal emotion classification, incorporating data from three distinct modalities: vision, speech, and text. The goal is to detect and categorize human emotions into four primary classes, utilizing an extensive array of data processing, feature extraction, and machine learning techniques. Different methods for pooling and temporal modeling are employed to address the temporal dimension in audio and visual files. Various classifiers are applied for emotion classification, with the most effective parameters selected via Grid Search. The project also addresses class imbalance and applies both early and late fusion techniques to yield optimal results. A thorough evaluation and interpretation of the unimodal and multimodal classification tasks informs better performance."
      ],
      "metadata": {
        "id": "t-WwiQaq7gYe"
      }
    },
    {
      "cell_type": "code",
      "source": [
        "from google.colab import drive\n",
        "drive.mount(\"/content/gdrive\")"
      ],
      "metadata": {
        "id": "tN2XYeYpyfWS",
        "colab": {
          "base_uri": "https://localhost:8080/"
        },
        "outputId": "c15a42ed-3888-448d-aaf0-669e0b6ba489"
      },
      "execution_count": 27,
      "outputs": [
        {
          "output_type": "stream",
          "name": "stdout",
          "text": [
            "Drive already mounted at /content/gdrive; to attempt to forcibly remount, call drive.mount(\"/content/gdrive\", force_remount=True).\n"
          ]
        }
      ]
    },
    {
      "cell_type": "code",
      "execution_count": 2,
      "metadata": {
        "id": "fMr0Xc_2yaGh"
      },
      "outputs": [],
      "source": [
        "# Import pandas for data manipulation\n",
        "import pandas as pd\n",
        "import numpy as np"
      ]
    },
    {
      "cell_type": "code",
      "source": [
        "# Load dataset.csv as a pandas dataframe\n",
        "df = pd.read_csv('/content/gdrive/MyDrive/dataset.csv')"
      ],
      "metadata": {
        "id": "3B3Eeziq0z0n"
      },
      "execution_count": 3,
      "outputs": []
    },
    {
      "cell_type": "code",
      "source": [
        "# Print the first 5 rows of the dataframe\n",
        "print(df.head())"
      ],
      "metadata": {
        "colab": {
          "base_uri": "https://localhost:8080/"
        },
        "id": "Rg7YrQlA01O9",
        "outputId": "7cd61356-b870-4cfd-9bd3-a1207ffc593c"
      },
      "execution_count": 4,
      "outputs": [
        {
          "output_type": "stream",
          "name": "stdout",
          "text": [
            "        file_name_list speakers  \\\n",
            "0  Ses01F_impro01_F001      F01   \n",
            "1  Ses01F_impro01_M011      M01   \n",
            "2  Ses01F_impro02_F002      F01   \n",
            "3  Ses01F_impro02_F003      F01   \n",
            "4  Ses01F_impro02_F004      F01   \n",
            "\n",
            "                                     visual_features  \\\n",
            "0  /features/visual_features/Session1/Ses01F_impr...   \n",
            "1  /features/visual_features/Session1/Ses01F_impr...   \n",
            "2  /features/visual_features/Session1/Ses01F_impr...   \n",
            "3  /features/visual_features/Session1/Ses01F_impr...   \n",
            "4  /features/visual_features/Session1/Ses01F_impr...   \n",
            "\n",
            "                                   acoustic_features  \\\n",
            "0  /features/acoustic_features/Session1/Ses01F_im...   \n",
            "1  /features/acoustic_features/Session1/Ses01F_im...   \n",
            "2  /features/acoustic_features/Session1/Ses01F_im...   \n",
            "3  /features/acoustic_features/Session1/Ses01F_im...   \n",
            "4  /features/acoustic_features/Session1/Ses01F_im...   \n",
            "\n",
            "                                    lexical_features  emotion_labels  \n",
            "0  /features/lexical_features/Session1/Ses01F_imp...               3  \n",
            "1  /features/lexical_features/Session1/Ses01F_imp...               0  \n",
            "2  /features/lexical_features/Session1/Ses01F_imp...               1  \n",
            "3  /features/lexical_features/Session1/Ses01F_imp...               3  \n",
            "4  /features/lexical_features/Session1/Ses01F_imp...               1  \n"
          ]
        }
      ]
    },
    {
      "cell_type": "code",
      "source": [
        "# List the files in the features folder\n",
        "import os\n",
        "files = os.listdir('/content/gdrive/MyDrive/features')\n",
        "print(files)"
      ],
      "metadata": {
        "colab": {
          "base_uri": "https://localhost:8080/"
        },
        "id": "QMKX1tX12NWC",
        "outputId": "61373498-7929-45bc-a7bc-777e8b9e632a"
      },
      "execution_count": 5,
      "outputs": [
        {
          "output_type": "stream",
          "name": "stdout",
          "text": [
            "['visual_features', 'acoustic_features', 'lexical_features']\n"
          ]
        }
      ]
    },
    {
      "cell_type": "code",
      "source": [
        "df['visual_features'] = df['visual_features'].str.lstrip('/')\n",
        "df['acoustic_features'] = df['acoustic_features'].str.lstrip('/')\n",
        "df['lexical_features'] = df['lexical_features'].str.lstrip('/')"
      ],
      "metadata": {
        "id": "Hi070HvP3655"
      },
      "execution_count": 6,
      "outputs": []
    },
    {
      "cell_type": "code",
      "source": [
        "def load_features(df):\n",
        "    visual_features = []\n",
        "    acoustic_features = []\n",
        "    lexical_features = []\n",
        "\n",
        "    total_rows = df.shape[0]\n",
        "\n",
        "    for i, (_, row) in enumerate(df.iterrows()):\n",
        "        visual = np.load(os.path.join('/content/gdrive/MyDrive', row['visual_features']))\n",
        "        acoustic = np.load(os.path.join('/content/gdrive/MyDrive', row['acoustic_features']))\n",
        "        lexical = np.load(os.path.join('/content/gdrive/MyDrive', row['lexical_features']))\n",
        "\n",
        "        visual_features.append(visual)\n",
        "        acoustic_features.append(acoustic)\n",
        "        lexical_features.append(lexical)\n",
        "\n",
        "        if i % 100 == 0:  # print progress every 100 rows\n",
        "            print(f'Processed {i} of {total_rows} rows.')\n",
        "\n",
        "    return visual_features, acoustic_features, lexical_features\n",
        "\n",
        "visual_features, acoustic_features, lexical_features = load_features(df)"
      ],
      "metadata": {
        "colab": {
          "base_uri": "https://localhost:8080/"
        },
        "id": "kJKf6uE72QXB",
        "outputId": "86ee305e-98c3-4046-dcb6-192aba16a2f2"
      },
      "execution_count": 7,
      "outputs": [
        {
          "output_type": "stream",
          "name": "stdout",
          "text": [
            "Processed 0 of 1336 rows.\n",
            "Processed 100 of 1336 rows.\n",
            "Processed 200 of 1336 rows.\n",
            "Processed 300 of 1336 rows.\n",
            "Processed 400 of 1336 rows.\n",
            "Processed 500 of 1336 rows.\n",
            "Processed 600 of 1336 rows.\n",
            "Processed 700 of 1336 rows.\n",
            "Processed 800 of 1336 rows.\n",
            "Processed 900 of 1336 rows.\n",
            "Processed 1000 of 1336 rows.\n",
            "Processed 1100 of 1336 rows.\n",
            "Processed 1200 of 1336 rows.\n",
            "Processed 1300 of 1336 rows.\n"
          ]
        }
      ]
    },
    {
      "cell_type": "code",
      "source": [
        "# Check lengths of the lists\n",
        "print(f\"Visual features list length: {len(visual_features)}\")\n",
        "print(f\"Acoustic features list length: {len(acoustic_features)}\")\n",
        "print(f\"Lexical features list length: {len(lexical_features)}\")\n",
        "\n",
        "# Check shapes of the first items in the lists\n",
        "print(f\"Visual features shape of first item: {visual_features[0].shape}\")\n",
        "print(f\"Acoustic features shape of first item: {acoustic_features[0].shape}\")\n",
        "print(f\"Lexical features shape of first item: {lexical_features[0].shape}\")"
      ],
      "metadata": {
        "colab": {
          "base_uri": "https://localhost:8080/"
        },
        "id": "VW-aDDoDBFez",
        "outputId": "39c77fd8-520e-46c6-a6d3-3c97d37f165d"
      },
      "execution_count": 8,
      "outputs": [
        {
          "output_type": "stream",
          "name": "stdout",
          "text": [
            "Visual features list length: 1336\n",
            "Acoustic features list length: 1336\n",
            "Lexical features list length: 1336\n",
            "Visual features shape of first item: (41, 2048)\n",
            "Acoustic features shape of first item: (1, 128)\n",
            "Lexical features shape of first item: (768,)\n"
          ]
        }
      ]
    },
    {
      "cell_type": "code",
      "source": [
        "# Check for null or NaN values\n",
        "print(f\"NaN in visual features: {any(np.isnan(feature).any() for feature in visual_features)}\")\n",
        "print(f\"NaN in acoustic features: {any(np.isnan(feature).any() for feature in acoustic_features)}\")\n",
        "print(f\"NaN in lexical features: {any(np.isnan(feature).any() for feature in lexical_features)}\")"
      ],
      "metadata": {
        "colab": {
          "base_uri": "https://localhost:8080/"
        },
        "id": "Xb7hrsQjDn-5",
        "outputId": "d6253f8c-1518-455b-b4b9-7cd0bebe9abb"
      },
      "execution_count": 9,
      "outputs": [
        {
          "output_type": "stream",
          "name": "stdout",
          "text": [
            "NaN in visual features: False\n",
            "NaN in acoustic features: False\n",
            "NaN in lexical features: False\n"
          ]
        }
      ]
    },
    {
      "cell_type": "code",
      "source": [
        "# Randomly select an index for visual inspection\n",
        "index = np.random.randint(len(visual_features))\n",
        "\n",
        "print(f\"Visual features for sample {index}: {visual_features[index]}\")\n",
        "#print(f\"Acoustic features for sample {index}: {acoustic_features[index]}\")\n",
        "#print(f\"Lexical features for sample {index}: {lexical_features[index]}\")"
      ],
      "metadata": {
        "colab": {
          "base_uri": "https://localhost:8080/"
        },
        "id": "ZzbOWix9Dv4b",
        "outputId": "f222625d-dfcd-469f-b5d2-7c9810fe80b7"
      },
      "execution_count": 10,
      "outputs": [
        {
          "output_type": "stream",
          "name": "stdout",
          "text": [
            "Visual features for sample 1192: [[-0.28308506  0.97970449  0.55027642 ... -1.85522167 -0.72971074\n",
            "   0.39355529]\n",
            " [ 0.51258276  0.73056073  1.61878951 ...  0.26598056 -1.11722612\n",
            "   1.06271326]\n",
            " [-0.0225418  -0.18905219  1.28944536 ... -1.23565414 -0.7721565\n",
            "   1.79300519]\n",
            " ...\n",
            " [-1.16294159 -0.1427572  -1.30959601 ... -0.65282591  1.72618464\n",
            "   0.68890796]\n",
            " [-0.97839829 -0.60273961  0.5694322  ...  0.6862812   0.39233857\n",
            "  -0.74814367]\n",
            " [ 0.51330309  0.38124563 -0.1814698  ... -0.07654266 -0.63523917\n",
            "   1.04301707]]\n"
          ]
        }
      ]
    },
    {
      "cell_type": "code",
      "source": [
        "# Choose a row from the DataFrame to compare with\n",
        "row = df.iloc[index]\n",
        "\n",
        "# Manually load the features\n",
        "visual_manual = np.load(os.path.join('/content/gdrive/MyDrive', row['visual_features']))\n",
        "acoustic_manual = np.load(os.path.join('/content/gdrive/MyDrive', row['acoustic_features']))\n",
        "lexical_manual = np.load(os.path.join('/content/gdrive/MyDrive', row['lexical_features']))\n",
        "\n",
        "# Compare the manually loaded features with the loaded features\n",
        "print(f\"Visual features match: {np.allclose(visual_manual, visual_features[index])}\")\n",
        "print(f\"Acoustic features match: {np.allclose(acoustic_manual, acoustic_features[index])}\")\n",
        "print(f\"Lexical features match: {np.allclose(lexical_manual, lexical_features[index])}\")"
      ],
      "metadata": {
        "colab": {
          "base_uri": "https://localhost:8080/"
        },
        "id": "cu_eWIngEOZc",
        "outputId": "60176f04-abb3-496e-cf0c-0903fd7174fc"
      },
      "execution_count": 11,
      "outputs": [
        {
          "output_type": "stream",
          "name": "stdout",
          "text": [
            "Visual features match: True\n",
            "Acoustic features match: True\n",
            "Lexical features match: True\n"
          ]
        }
      ]
    },
    {
      "cell_type": "markdown",
      "source": [
        "Pooling and Temporal Modeling: To handle the temporal dimension of audio and visual data effectively, mean pooling is used. Temporal modeling techniques, such as RNNs, GRUs, or LSTMs, might also be considered depending on the dataset and task to generate expressive feature vectors for each data point."
      ],
      "metadata": {
        "id": "T283H0es7wZH"
      }
    },
    {
      "cell_type": "code",
      "source": [
        "def mean_pooling(features):\n",
        "    return [np.mean(feature, axis=0) for feature in features]\n",
        "\n",
        "# Apply mean pooling\n",
        "visual_features_pooled = mean_pooling(visual_features)\n",
        "acoustic_features_pooled = mean_pooling(acoustic_features)\n",
        "lexical_features_pooled = mean_pooling(lexical_features)"
      ],
      "metadata": {
        "id": "v1r7FBgIBNI-"
      },
      "execution_count": 12,
      "outputs": []
    },
    {
      "cell_type": "code",
      "source": [
        "# Check if all elements in the pooled features lists are 1D arrays\n",
        "print(f\"All elements in visual_features_pooled are 1D: {all(feature.ndim == 1 for feature in visual_features_pooled)}\")\n",
        "print(f\"All elements in acoustic_features_pooled are 1D: {all(feature.ndim == 1 for feature in acoustic_features_pooled)}\")\n",
        "print(f\"All elements in lexical_features_pooled are 1D: {all(feature.ndim == 1 for feature in lexical_features_pooled)}\")"
      ],
      "metadata": {
        "colab": {
          "base_uri": "https://localhost:8080/"
        },
        "id": "dUhrMdKvGXIQ",
        "outputId": "41e5c108-7114-4846-e981-5c9b6dd24498"
      },
      "execution_count": 13,
      "outputs": [
        {
          "output_type": "stream",
          "name": "stdout",
          "text": [
            "All elements in visual_features_pooled are 1D: True\n",
            "All elements in acoustic_features_pooled are 1D: True\n",
            "All elements in lexical_features_pooled are 1D: False\n"
          ]
        }
      ]
    },
    {
      "cell_type": "code",
      "source": [
        "# Manually compute the mean for the first feature sequence\n",
        "visual_manual = np.mean(visual_features[0], axis=0)\n",
        "\n",
        "# Compare the manually computed mean with the result of mean_pooling\n",
        "print(f\"Visual features match: {np.allclose(visual_manual, visual_features_pooled[0])}\")"
      ],
      "metadata": {
        "colab": {
          "base_uri": "https://localhost:8080/"
        },
        "id": "_W9bygRdHL9j",
        "outputId": "4bef36e1-e386-4fc8-fc8b-188919722e51"
      },
      "execution_count": 14,
      "outputs": [
        {
          "output_type": "stream",
          "name": "stdout",
          "text": [
            "Visual features match: True\n"
          ]
        }
      ]
    },
    {
      "cell_type": "code",
      "source": [
        "# Convert lists of 1D arrays to 2D arrays\n",
        "visual_features_pooled = np.vstack(visual_features_pooled)\n",
        "acoustic_features_pooled = np.vstack(acoustic_features_pooled)\n",
        "lexical_features_pooled = np.vstack(lexical_features_pooled)"
      ],
      "metadata": {
        "id": "gzNphYKuIA_J"
      },
      "execution_count": 15,
      "outputs": []
    },
    {
      "cell_type": "code",
      "source": [
        "# Concatenate the pooled features\n",
        "features_pooled = np.concatenate((visual_features_pooled, acoustic_features_pooled, lexical_features_pooled), axis=1)"
      ],
      "metadata": {
        "id": "WWXDymLwIDC6"
      },
      "execution_count": 16,
      "outputs": []
    },
    {
      "cell_type": "markdown",
      "source": [
        "Emotion Classification and Grid Search: The project entails classifying emotions into four distinct classes. Various classifiers are employed, guided by the feature vectors derived from temporal modeling. Through Grid Search, the parameters of these classifiers are optimized over a defined range, ensuring the most accurate results."
      ],
      "metadata": {
        "id": "cEnK9S7z79tY"
      }
    },
    {
      "cell_type": "code",
      "source": [
        "from sklearn.svm import SVC\n",
        "from sklearn.model_selection import GridSearchCV, train_test_split\n",
        "\n",
        "# Define the parameter grid\n",
        "param_grid = {'C': [0.1, 1, 10, 100], 'gamma': [1, 0.1, 0.01, 0.001], 'kernel': ['rbf']}\n",
        "\n",
        "# Load labels\n",
        "labels = df['emotion_labels'].values\n",
        "\n",
        "# Split the data into training and testing sets for each modality\n",
        "X_train_visual, X_test_visual, y_train, y_test = train_test_split(visual_features_pooled, labels, test_size=0.2, random_state=42)\n",
        "X_train_acoustic, X_test_acoustic, _, _ = train_test_split(acoustic_features_pooled, labels, test_size=0.2, random_state=42)\n",
        "X_train_lexical, X_test_lexical, _, _ = train_test_split(lexical_features_pooled, labels, test_size=0.2, random_state=42)\n",
        "\n",
        "# Create an instance of the classifier for each modality\n",
        "svm_visual = GridSearchCV(SVC(class_weight='balanced'), param_grid, refit=True)\n",
        "svm_acoustic = GridSearchCV(SVC(class_weight='balanced'), param_grid, refit=True)\n",
        "svm_lexical = GridSearchCV(SVC(class_weight='balanced'), param_grid, refit=True)"
      ],
      "metadata": {
        "id": "aWZNeHtlCBoD"
      },
      "execution_count": 17,
      "outputs": []
    },
    {
      "cell_type": "code",
      "source": [
        "# Train the classifier for each modality and print the best parameters\n",
        "svm_visual.fit(X_train_visual, y_train)\n",
        "print(f\"Best parameters for visual: {svm_visual.best_params_}\")\n",
        "\n",
        "svm_acoustic.fit(X_train_acoustic, y_train)\n",
        "print(f\"Best parameters for acoustic: {svm_acoustic.best_params_}\")\n",
        "\n",
        "svm_lexical.fit(X_train_lexical, y_train)\n",
        "print(f\"Best parameters for lexical: {svm_lexical.best_params_}\")\n",
        "\n",
        "# Test the classifier for each modality\n",
        "score_visual = svm_visual.score(X_test_visual, y_test)\n",
        "print(f\"Model Accuracy for visual: {score_visual}\")\n",
        "\n",
        "score_acoustic = svm_acoustic.score(X_test_acoustic, y_test)\n",
        "print(f\"Model Accuracy for acoustic: {score_acoustic}\")\n",
        "\n",
        "score_lexical = svm_lexical.score(X_test_lexical, y_test)\n",
        "print(f\"Model Accuracy for lexical: {score_lexical}\")"
      ],
      "metadata": {
        "colab": {
          "base_uri": "https://localhost:8080/"
        },
        "id": "Pvit9iQ3Cpdr",
        "outputId": "d8ea8098-9a9d-47db-a0fd-34c5a542c8d3"
      },
      "execution_count": 18,
      "outputs": [
        {
          "output_type": "stream",
          "name": "stdout",
          "text": [
            "Best parameters for visual: {'C': 10, 'gamma': 0.01, 'kernel': 'rbf'}\n",
            "Best parameters for acoustic: {'C': 10, 'gamma': 0.01, 'kernel': 'rbf'}\n",
            "Best parameters for lexical: {'C': 10, 'gamma': 1, 'kernel': 'rbf'}\n",
            "Model Accuracy for visual: 0.5335820895522388\n",
            "Model Accuracy for acoustic: 0.5335820895522388\n",
            "Model Accuracy for lexical: 0.291044776119403\n"
          ]
        }
      ]
    },
    {
      "cell_type": "markdown",
      "source": [
        "Fusion Techniques: To achieve a comprehensive understanding of emotions, both early fusion (feature concatenation) and late fusion (majority voting) techniques are adopted on multimodal data. This allows for the integration of different modalities at various stages of processing"
      ],
      "metadata": {
        "id": "YD3nOf3C9xyF"
      }
    },
    {
      "cell_type": "code",
      "source": [
        "# Set the generic \"best\" parameters to the most frequently occuring result\n",
        "best_C = 10\n",
        "best_gamma = .01\n",
        "\n",
        "# Early Fusion: Concatenating the features\n",
        "early_fusion = np.concatenate((visual_features_pooled, acoustic_features_pooled, lexical_features_pooled), axis=1)\n",
        "\n",
        "# Train on early_fusion dataset\n",
        "X_train, X_test, y_train, y_test = train_test_split(early_fusion, labels, test_size=0.2, random_state=42)\n",
        "\n",
        "# Create an instance of the classifier\n",
        "svm = SVC(class_weight='balanced', C=best_C, gamma=best_gamma, kernel='rbf')\n",
        "\n",
        "# Train the classifier\n",
        "svm.fit(X_train, y_train)\n",
        "\n",
        "# Test the classifier\n",
        "y_pred = svm.predict(X_test)"
      ],
      "metadata": {
        "id": "ueZYBMsBCrWd"
      },
      "execution_count": 19,
      "outputs": []
    },
    {
      "cell_type": "markdown",
      "source": [
        "Class Imbalance: Class imbalance is a significant challenge in classification tasks. This program uses the 'class_weight' parameter of the SVM model to handle class imbalance. This method basically applies different weights to different classes. In 'balanced' mode, classes are automatically adjusted inverse to their frequency. A confusion matrix reveals how the model deals with each class."
      ],
      "metadata": {
        "id": "djqhmDIg8Wxc"
      }
    },
    {
      "cell_type": "code",
      "source": [
        "from sklearn.metrics import confusion_matrix\n",
        "import matplotlib.pyplot as plt\n",
        "import seaborn as sns\n",
        "\n",
        "# Compute the confusion matrix\n",
        "cm = confusion_matrix(y_test, y_pred)\n",
        "\n",
        "# Normalize confusion matrix\n",
        "cm_norm = cm.astype('float') / cm.sum(axis=1)[:, np.newaxis]\n",
        "\n",
        "# Plot the confusion matrix\n",
        "plt.figure(figsize=(10, 10))\n",
        "sns.heatmap(cm_norm, annot=True, cmap='Blues', fmt=\".3f\", xticklabels=np.unique(labels), yticklabels=np.unique(labels))\n",
        "\n",
        "plt.title('Confusion matrix')\n",
        "plt.xlabel('Predicted label')\n",
        "plt.ylabel('True label')\n",
        "plt.show()"
      ],
      "metadata": {
        "colab": {
          "base_uri": "https://localhost:8080/",
          "height": 872
        },
        "id": "RhONAt1rw1B-",
        "outputId": "0ea61fec-9561-47be-ed4a-96c7e9d607a2"
      },
      "execution_count": 20,
      "outputs": [
        {
          "output_type": "display_data",
          "data": {
            "text/plain": [
              "<Figure size 1000x1000 with 2 Axes>"
            ],
            "image/png": "[encoded data removed]"
          },
          "metadata": {}
        }
      ]
    },
    {
      "cell_type": "code",
      "source": [
        "score = svm.score(X_test, y_test)\n",
        "print(f\"Model Accuracy: {score}\")"
      ],
      "metadata": {
        "colab": {
          "base_uri": "https://localhost:8080/"
        },
        "id": "kPuBWoSJw5v3",
        "outputId": "747bb9cd-186b-438d-c783-e7e8cf5ebc45"
      },
      "execution_count": 21,
      "outputs": [
        {
          "output_type": "stream",
          "name": "stdout",
          "text": [
            "Model Accuracy: 0.6343283582089553\n"
          ]
        }
      ]
    },
    {
      "cell_type": "code",
      "source": [
        "# Split the individual feature sets into training and testing sets\n",
        "X_train_visual, X_test_visual, _, _ = train_test_split(visual_features_pooled, labels, test_size=0.2, random_state=42)\n",
        "X_train_acoustic, X_test_acoustic, _, _ = train_test_split(acoustic_features_pooled, labels, test_size=0.2, random_state=42)\n",
        "X_train_lexical, X_test_lexical, _, _ = train_test_split(lexical_features_pooled, labels, test_size=0.2, random_state=42)"
      ],
      "metadata": {
        "id": "jq4dlwZuJ807"
      },
      "execution_count": 22,
      "outputs": []
    },
    {
      "cell_type": "code",
      "source": [
        "# Find best parameters\n",
        "best_parameters_visual = svm_visual.best_params_\n",
        "best_C_visual = best_parameters_visual['C']\n",
        "best_gamma_visual = best_parameters_visual['gamma']\n",
        "\n",
        "best_parameters_acoustic = svm_acoustic.best_params_\n",
        "best_C_acoustic = best_parameters_acoustic['C']\n",
        "best_gamma_acoustic = best_parameters_acoustic['gamma']\n",
        "\n",
        "best_parameters_lexical = svm_lexical.best_params_\n",
        "best_C_lexical = best_parameters_lexical['C']\n",
        "best_gamma_lexical = best_parameters_lexical['gamma']"
      ],
      "metadata": {
        "id": "20iO4l5yWrYH"
      },
      "execution_count": 23,
      "outputs": []
    },
    {
      "cell_type": "code",
      "source": [
        "# Create instances of the classifier\n",
        "svm_visual = SVC(class_weight='balanced', probability=True, C=best_C_visual, gamma=best_gamma_visual, kernel='rbf')\n",
        "svm_acoustic = SVC(class_weight='balanced', probability=True, C=best_C_acoustic, gamma=best_gamma_acoustic, kernel='rbf')\n",
        "svm_lexical = SVC(class_weight='balanced', probability=True, C=best_C_lexical, gamma=best_gamma_lexical, kernel='rbf')\n",
        "\n",
        "# Train the classifiers\n",
        "svm_visual.fit(X_train_visual, y_train)\n",
        "svm_acoustic.fit(X_train_acoustic, y_train)\n",
        "svm_lexical.fit(X_train_lexical, y_train)\n",
        "\n",
        "# Predict the class probabilities\n",
        "proba_visual = svm_visual.predict_proba(X_test_visual)\n",
        "proba_acoustic = svm_acoustic.predict_proba(X_test_acoustic)\n",
        "proba_lexical = svm_lexical.predict_proba(X_test_lexical)\n",
        "\n",
        "# Average the probabilities\n",
        "proba_average = (proba_visual + proba_acoustic + proba_lexical) / 3\n",
        "\n",
        "# Get the class with the highest probability\n",
        "predictions = np.argmax(proba_average, axis=1)\n",
        "\n",
        "# Print accuracy\n",
        "accuracy = np.mean(predictions == y_test)\n",
        "print(f\"Model Accuracy: {accuracy}\")"
      ],
      "metadata": {
        "colab": {
          "base_uri": "https://localhost:8080/"
        },
        "id": "VRsIgl2ECtMi",
        "outputId": "0f3dc623-a527-46c4-a315-7c85f6529f52"
      },
      "execution_count": 24,
      "outputs": [
        {
          "output_type": "stream",
          "name": "stdout",
          "text": [
            "Model Accuracy: 0.6380597014925373\n"
          ]
        }
      ]
    },
    {
      "cell_type": "markdown",
      "source": [
        "Results Reporting and Cross Validation: The classification results on individual modalities - vision, speech, and text - are evaluated using the F1-micro metric to ensure a balanced measure of precision and recall. A 10-fold subject-independent cross-validation scheme is adopted to validate these findings and prevent overfitting."
      ],
      "metadata": {
        "id": "K5I_62228FZh"
      }
    },
    {
      "cell_type": "code",
      "source": [
        "from sklearn.model_selection import cross_val_score\n",
        "from sklearn.metrics import make_scorer, f1_score\n",
        "\n",
        "# Create a scorer for f1-micro\n",
        "f1_micro_scorer = make_scorer(f1_score, average='micro')\n",
        "\n",
        "# Create an instance of the classifier\n",
        "svm = SVC(class_weight='balanced', C=best_C, gamma=best_gamma, kernel='rbf')\n",
        "\n",
        "# Perform 10-fold cross-validation and print the average F1-micro score\n",
        "scores = cross_val_score(svm, early_fusion, labels, cv=10, scoring=f1_micro_scorer)\n",
        "print(f\"Average F1-micro score: {scores.mean()}\")"
      ],
      "metadata": {
        "colab": {
          "base_uri": "https://localhost:8080/"
        },
        "id": "Qw-4DB9pC0pV",
        "outputId": "5fb5eb56-dccc-4ae0-9153-3decfbdfd1d2"
      },
      "execution_count": 25,
      "outputs": [
        {
          "output_type": "stream",
          "name": "stdout",
          "text": [
            "Average F1-micro score: 0.5202109751991919\n"
          ]
        }
      ]
    },
    {
      "cell_type": "code",
      "source": [
        "# Create an instance of the classifier for visual data\n",
        "svm = SVC(class_weight='balanced', C=best_C_visual, gamma=best_gamma_visual, kernel='rbf')\n",
        "\n",
        "# Perform 10-fold cross-validation and print the average F1-micro score\n",
        "scores = cross_val_score(svm, visual_features_pooled, labels, cv=10, scoring=f1_micro_scorer)\n",
        "print(f\"Average F1-micro score for visual: {scores.mean()}\")\n",
        "\n",
        "# Create an instance of the classifier for acoustic data\n",
        "svm = SVC(class_weight='balanced', C=best_C_acoustic, gamma=best_gamma_acoustic, kernel='rbf')\n",
        "\n",
        "# Perform 10-fold cross-validation and print the average F1-micro score\n",
        "scores = cross_val_score(svm, acoustic_features_pooled, labels, cv=10, scoring=f1_micro_scorer)\n",
        "print(f\"Average F1-micro score for acoustic: {scores.mean()}\")\n",
        "\n",
        "# Create an instance of the classifier for lexical data\n",
        "svm = SVC(class_weight='balanced', C=best_C_lexical, gamma=best_gamma_lexical, kernel='rbf')\n",
        "\n",
        "# Perform 10-fold cross-validation and print the average F1-micro score\n",
        "scores = cross_val_score(svm, lexical_features_pooled, labels, cv=10, scoring=f1_micro_scorer)\n",
        "print(f\"Average F1-micro score for lexical: {scores.mean()}\")"
      ],
      "metadata": {
        "colab": {
          "base_uri": "https://localhost:8080/"
        },
        "id": "Ke1oWONxtFEd",
        "outputId": "c67f6ffb-2511-4731-9bc7-02b0584495e6"
      },
      "execution_count": 26,
      "outputs": [
        {
          "output_type": "stream",
          "name": "stdout",
          "text": [
            "Average F1-micro score for visual: 0.40941532936819663\n",
            "Average F1-micro score for acoustic: 0.5216193468746493\n",
            "Average F1-micro score for lexical: 0.26361800022444176\n"
          ]
        }
      ]
    },
    {
      "cell_type": "markdown",
      "source": [
        "On the modalities: The best parameters for the SVM classifiers have been found successfully using grid search. Interestingly, all three modalities (visual, acoustic, and lexical) share the same best 'C' parameter and 'kernel' type. However, the 'gamma' value differs for the lexical features, which may imply different data characteristics. In this same vein, the model accuracy across three different modalities (visual, acoustic, and lexical) varies. The visual and acoustic features yield the same accuracy of approximately 53.4%, while the lexical features result in a significantly lower accuracy of 29.1%. This suggests that the lexical features may not be as effective in predicting the emotion labels in this case, or the SVM classifier may not be the best model for the lexical features."
      ],
      "metadata": {
        "id": "PDHRQOh25cnZ"
      }
    },
    {
      "cell_type": "markdown",
      "source": [
        "On performance: When the SVM is trained on the concatenated features in early fusion, the accuracy increases to approximately 63.4%. This suggests that combining the features provides more information for the classifier to make a decision and results in a better model performance. Additionally, the F1-micro score, a metric that considers both precision and recall, is approximately 52.0%. This suggests that there is still room for improving the model's performance."
      ],
      "metadata": {
        "id": "jz1njMAi6Ffw"
      }
    },
    {
      "cell_type": "markdown",
      "source": [
        "On comparing unimodal and multimodal classification: In this program, both types of classification are used. The accuracy for the unimodal classification is much lower than the multimodal accuracy, and the best unimodal F1-micro score pretty much ties the multimodal F1-micro score. From this, it is evident that the multimodal classification performs better. This is because the modalities should be represented and aligned in a way that they combine to contribute emergent, complementary knowledge."
      ],
      "metadata": {
        "id": "4fGJv1pEGm1p"
      }
    }
  ]
}